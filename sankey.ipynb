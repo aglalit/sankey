{
 "cells": [
  {
   "cell_type": "markdown",
   "metadata": {},
   "source": [
    "# Extracting Information from Music Signals \n",
    "## Sinusoids (Session 1.7) - Kadenze \n",
    "### George Tzanetakis, University of Victoria \n",
    "\n",
    "In this notebook we will explore sinusoids as basic abstract building blocks of music. First we look into how to create a sinusoidal signal of a particular duration and frequency with discrete samples at a specified sampling rate. Then we will hear and view the resulting signals in different ways. Simple recognizable melodies can be created from these \n",
    "very simple individual sinusoidal signals by appropriately setting their durations and frequencies. In the first cell below we setup things and load some Python modules that we will use for plotting and playing audio. \n"
   ]
  },
  {
   "cell_type": "code",
   "execution_count": null,
   "metadata": {},
   "outputs": [],
   "source": [
    "import matplotlib",
    "%matplotlib inline",
    "import matplotlib.pyplot as plt",
    "from matplotlib.sankey import Sankey",

    "sankey = Sankey()",
    "sankey.add(flows=[1, -1], labels=['input', 'output'])",
    "sankey.finish()"
   ]
  },


 ],
 "metadata": {
  "kernelspec": {
   "display_name": "Python 3",
   "language": "python",
   "name": "python3"
  },
  "language_info": {
   "codemirror_mode": {
    "name": "ipython",
    "version": 3
   },
   "file_extension": ".py",
   "mimetype": "text/x-python",
   "name": "python",
   "nbconvert_exporter": "python",
   "pygments_lexer": "ipython3",
   "version": "3.7.1"
  }
 },
 "nbformat": 4,
 "nbformat_minor": 2
}


